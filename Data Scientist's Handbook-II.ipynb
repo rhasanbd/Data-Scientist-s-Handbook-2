{
 "cells": [
  {
   "cell_type": "markdown",
   "metadata": {},
   "source": [
    "# Data Scientist's Handbook - II\n",
    "\n",
    "## Machine Learning using Scikit Learn\n",
    "\n",
    "In the \"Data Scientist's Handbook - I\" notebook we have completed the Exploratory Data Analysis (EDA). It enabled us to isentify the most useful features to explain the variance in target.\n",
    "\n",
    "In the following block, we briefly go through only the essential steps to re-create an effective set of features.\n",
    "\n",
    "Then, we will build various regression models and compare their performance.\n",
    "\n",
    "Note that in this notebook we are performing only non-Bayesian analysis.\n",
    "\n",
    "In the next notebook, we will use Bayesian analysis to measure the uncertainty of the predictions.\n"
   ]
  },
  {
   "cell_type": "code",
   "execution_count": 19,
   "metadata": {
    "collapsed": false
   },
   "outputs": [
    {
     "name": "stdout",
     "output_type": "stream",
     "text": [
      "Most Correlated Features\n",
      "\n",
      "Grade            1.000000\n",
      "failures         0.293831\n",
      "schoolsup_yes    0.238365\n",
      "schoolsup_no     0.238365\n",
      "absences         0.213129\n",
      "Medu             0.190308\n",
      "Walc             0.190054\n",
      "goout            0.177383\n",
      "Name: Grade, dtype: float64\n"
     ]
    },
    {
     "name": "stderr",
     "output_type": "stream",
     "text": [
      "/Users/hasan/anaconda/lib/python3.5/site-packages/ipykernel/__main__.py:33: DeprecationWarning: \n",
      ".ix is deprecated. Please use\n",
      ".loc for label based indexing or\n",
      ".iloc for positional indexing\n",
      "\n",
      "See the documentation here:\n",
      "http://pandas.pydata.org/pandas-docs/stable/indexing.html#ix-indexer-is-deprecated\n"
     ]
    }
   ],
   "source": [
    "import pandas as pd\n",
    "\n",
    "df = pd.read_csv('/Users/hasan/datasets/DataScienceRepository/student-mat.csv')\n",
    "\n",
    "\n",
    "# Data cleaning: Drop the Missing Target Values\n",
    "df = df[~df['G3'].isin([0, 1])]\n",
    "\n",
    "# Rename the target column\n",
    "df = df.rename(columns={'G3': 'Grade'})\n",
    "\n",
    "#********************************************************************************\n",
    "\n",
    "## Generate an effective feature set\n",
    "\n",
    "# Drop the redundant features\n",
    "df = df.drop(columns=['school', 'G1', 'G2'])\n",
    "\n",
    "# Combine the categorical features (via One-Hot Encoding) with the numeric features\n",
    "df = pd.get_dummies(df)\n",
    "\n",
    "# Find correlations with the Grade\n",
    "most_correlated = df.corr().abs()['Grade'].sort_values(ascending=False)\n",
    "\n",
    "# Maintain the top 8 most correlation features with Grade\n",
    "most_correlated = most_correlated[:8]\n",
    "\n",
    "\n",
    "print(\"Most Correlated Features\\n\")\n",
    "print(most_correlated)\n",
    "\n",
    "# Edit the DataFrame to Contain Only the Most Correlated Features¶\n",
    "df = df.ix[:, most_correlated.index]\n",
    "df = df.drop(columns = 'schoolsup_no') # This feature has the same correlation as schoolsup_yes\n",
    "\n",
    "#********************************************************************************\n",
    "## Create a Separate Feature Set (Data Matrix X) and Target (1D Vector y)\n",
    "\n",
    "# It contains all attributes (features and the target)\n",
    "allData = df\n",
    "\n",
    "y = df['Grade'] # 1D targer vector\n",
    "X = df.drop(columns='Grade')  # Data Matrix containing all features excluding the label\n"
   ]
  },
  {
   "cell_type": "markdown",
   "metadata": {},
   "source": [
    "## 1. Machine Learning Using Scikit Learn\n",
    "\n",
    "- a). Create Train and Test Sata Set\n",
    "- b). Establish Benchmarks Metrics\n",
    "- c). Apply Machine Learning Models for Regression"
   ]
  },
  {
   "cell_type": "markdown",
   "metadata": {},
   "source": [
    "## 1(a). Create Train and Test Data Set\n",
    "\n",
    "To test the performance of the ML model (Linear Regression), we need to set aside some data (e.g., 20%) for testing.\n",
    "\n",
    "To split the data into training and testing set, we will use Scikit-learn's train_test_split() function."
   ]
  },
  {
   "cell_type": "code",
   "execution_count": 14,
   "metadata": {
    "collapsed": false
   },
   "outputs": [],
   "source": [
    "# Create a Separate Test Set Data\n",
    "\n",
    "from sklearn.model_selection import train_test_split\n",
    "\n",
    "# Split into training/testing sets with 20% split\n",
    "X_train, X_test, y_train, y_test = train_test_split(X, y, test_size = 0.20, random_state=42)"
   ]
  },
  {
   "cell_type": "markdown",
   "metadata": {},
   "source": [
    "## 1(b). Establish Benchmarks Metrics\n",
    "\n",
    "To evaluate the performance of this regression task, we will use two standard metrics:\n",
    "\n",
    "- Mean Absolute Error (MAE): Average of the absolute value of the difference between predictions and the true values\n",
    "- Root Mean Squared Error (RMSE): The square root of the average of the squared differences between the predictions and the true values.\n",
    "\n",
    "The mean absolute error is more interpretable, but the root mean squared error penalizes larger errors more heavily. Either one may be appropriate depending on the situation."
   ]
  },
  {
   "cell_type": "code",
   "execution_count": 15,
   "metadata": {
    "collapsed": true
   },
   "outputs": [],
   "source": [
    "# Calculate mae and rmse\n",
    "def evaluate_predictions(predictions, true):\n",
    "    mae = np.mean(abs(predictions - true))\n",
    "    rmse = np.sqrt(np.mean((predictions - true) ** 2))\n",
    "    \n",
    "    return mae, rmse"
   ]
  },
  {
   "cell_type": "markdown",
   "metadata": {},
   "source": [
    "## 1(c). Apply Machine Learning Models for Regression"
   ]
  },
  {
   "cell_type": "code",
   "execution_count": 20,
   "metadata": {
    "collapsed": false
   },
   "outputs": [
    {
     "name": "stderr",
     "output_type": "stream",
     "text": [
      "/Users/hasan/anaconda/lib/python3.5/site-packages/ipykernel/__main__.py:53: DeprecationWarning: \n",
      ".ix is deprecated. Please use\n",
      ".loc for label based indexing or\n",
      ".iloc for positional indexing\n",
      "\n",
      "See the documentation here:\n",
      "http://pandas.pydata.org/pandas-docs/stable/indexing.html#ix-indexer-is-deprecated\n",
      "/Users/hasan/anaconda/lib/python3.5/site-packages/ipykernel/__main__.py:53: DeprecationWarning: \n",
      ".ix is deprecated. Please use\n",
      ".loc for label based indexing or\n",
      ".iloc for positional indexing\n",
      "\n",
      "See the documentation here:\n",
      "http://pandas.pydata.org/pandas-docs/stable/indexing.html#ix-indexer-is-deprecated\n",
      "/Users/hasan/anaconda/lib/python3.5/site-packages/ipykernel/__main__.py:53: DeprecationWarning: \n",
      ".ix is deprecated. Please use\n",
      ".loc for label based indexing or\n",
      ".iloc for positional indexing\n",
      "\n",
      "See the documentation here:\n",
      "http://pandas.pydata.org/pandas-docs/stable/indexing.html#ix-indexer-is-deprecated\n",
      "/Users/hasan/anaconda/lib/python3.5/site-packages/ipykernel/__main__.py:60: DeprecationWarning: \n",
      ".ix is deprecated. Please use\n",
      ".loc for label based indexing or\n",
      ".iloc for positional indexing\n",
      "\n",
      "See the documentation here:\n",
      "http://pandas.pydata.org/pandas-docs/stable/indexing.html#ix-indexer-is-deprecated\n"
     ]
    }
   ],
   "source": [
    "import numpy as np\n",
    "\n",
    "# Standard ML Models for comparison\n",
    "from sklearn.linear_model import LinearRegression\n",
    "from sklearn.linear_model import ElasticNet\n",
    "from sklearn.ensemble import RandomForestRegressor\n",
    "from sklearn.ensemble import ExtraTreesRegressor\n",
    "from sklearn.ensemble import GradientBoostingRegressor\n",
    "from sklearn.svm import SVR\n",
    "\n",
    "# Splitting data into training/testing\n",
    "from sklearn.model_selection import train_test_split\n",
    "from sklearn.preprocessing import MinMaxScaler\n",
    "\n",
    "# Metrics\n",
    "from sklearn.metrics import mean_squared_error, mean_absolute_error, median_absolute_error\n",
    "\n",
    "# Distributions\n",
    "import scipy\n",
    "\n",
    "\n",
    "# Evaluate several ml models by training on training set and testing on testing set\n",
    "def evaluate(X_train, X_test, y_train, y_test):\n",
    "    # Names of models\n",
    "    model_name_list = ['Linear Regression', 'ElasticNet Regression',\n",
    "                      'Random Forest', 'Extra Trees', 'SVM',\n",
    "                       'Gradient Boosted', 'Baseline']\n",
    "#     X_train = X_train.drop(columns='Grade')\n",
    "#     X_test = X_test.drop(columns='Grade')\n",
    "    \n",
    "    # Instantiate the models\n",
    "    model1 = LinearRegression()\n",
    "    model2 = ElasticNet(alpha=1.0, l1_ratio=0.5)\n",
    "    model3 = RandomForestRegressor(n_estimators=50)\n",
    "    model4 = ExtraTreesRegressor(n_estimators=50)\n",
    "    model5 = SVR(kernel='rbf', degree=3, C=1.0, gamma='auto')\n",
    "    model6 = GradientBoostingRegressor(n_estimators=20)\n",
    "    \n",
    "    # Dataframe for results\n",
    "    results = pd.DataFrame(columns=['mae', 'rmse'], index = model_name_list)\n",
    "    \n",
    "    # Train and predict with each model\n",
    "    for i, model in enumerate([model1, model2, model3, model4, model5, model6]):\n",
    "        model.fit(X_train, y_train)\n",
    "        predictions = model.predict(X_test)\n",
    "        \n",
    "        # Metrics\n",
    "        mae = np.mean(abs(predictions - y_test))\n",
    "        rmse = np.sqrt(np.mean((predictions - y_test) ** 2))\n",
    "        \n",
    "        # Insert results into the dataframe\n",
    "        model_name = model_name_list[i]\n",
    "        results.ix[model_name, :] = [mae, rmse]\n",
    "    \n",
    "    # Median Value Baseline Metrics\n",
    "    baseline = np.median(y_train)\n",
    "    baseline_mae = np.mean(abs(baseline - y_test))\n",
    "    baseline_rmse = np.sqrt(np.mean((baseline - y_test) ** 2))\n",
    "    \n",
    "    results.ix['Baseline', :] = [baseline_mae, baseline_rmse]\n",
    "    \n",
    "    return results\n",
    "\n",
    "results = evaluate(X_train, X_test, y_train, y_test)"
   ]
  },
  {
   "cell_type": "markdown",
   "metadata": {},
   "source": [
    "## 2. Visual Comparison of Models\n",
    "\n",
    "After generating various models, we need to compare their performance.\n",
    "\n",
    "We perform both visual and textual comparison."
   ]
  },
  {
   "cell_type": "code",
   "execution_count": 21,
   "metadata": {
    "collapsed": false
   },
   "outputs": [
    {
     "name": "stdout",
     "output_type": "stream",
     "text": [
      "                           mae     rmse\n",
      "Linear Regression      2.10332  2.64849\n",
      "ElasticNet Regression  2.45073  2.95719\n",
      "Random Forest          2.37012  2.98396\n",
      "Extra Trees            2.72824  3.48122\n",
      "SVM                    2.32607  2.85958\n",
      "Gradient Boosted       2.23799  2.74884\n",
      "Baseline               2.54167   3.1336\n"
     ]
    },
    {
     "data": {
      "image/png": "[encoded data removed]",
      "text/plain": [
       "<Figure size 864x576 with 2 Axes>"
      ]
     },
     "metadata": {},
     "output_type": "display_data"
    }
   ],
   "source": [
    "\n",
    "%matplotlib inline\n",
    "from IPython.core.pylabtools import figsize\n",
    "\n",
    "import matplotlib.pyplot as plt\n",
    "import matplotlib\n",
    "\n",
    "figsize(12, 8)\n",
    "matplotlib.rcParams['font.size'] = 16\n",
    "# Root mean squared error\n",
    "ax =  plt.subplot(1, 2, 1)\n",
    "results.sort_values('mae', ascending = True).plot.bar(y = 'mae', color = 'b', ax = ax)\n",
    "plt.title('Model Mean Absolute Error'); plt.ylabel('MAE');\n",
    "\n",
    "# Median absolute percentage error\n",
    "ax = plt.subplot(1, 2, 2)\n",
    "results.sort_values('rmse', ascending = True).plot.bar(y = 'rmse', color = 'r', ax = ax)\n",
    "plt.title('Model Root Mean Squared Error'); plt.ylabel('RMSE');\n",
    "\n",
    "plt.tight_layout()\n",
    "\n",
    "print(results)"
   ]
  },
  {
   "cell_type": "markdown",
   "metadata": {},
   "source": [
    "## Analysis of the Comparison\n",
    "\n",
    "Observe that both the MAE and the RMSE values from the Linear Rgression model are the smallest as compared to other regression models.\n",
    "\n",
    "Hence, we conclude that Linear Regression is so far the best model for predicting student grades for the given data set.\n",
    "\n",
    "### But how confident are we about the predictions?\n",
    "\n",
    "To have a quantative understanding of our confidence on the model, it is important to investigate the uncertainty of the feature weights. \n",
    "\n",
    "### Why do we care about measuaring uncertainty of the feature weights?\n",
    "\n",
    "Recall that in a typical Linear Regression problem, the target is predicted by a linear combination of the features. For example, the grades (target variable y) are assumed to be some linear combination of the features x (e.g., evaluation scores and relevant student data). Let's say that there are d such features. Then, the target is given by:\n",
    "\n",
    "y = intercept + w1*x1 + w2*x2 + ... + wd*xd \n",
    "\n",
    "A Linear Regression model finds appropriate vaules for the intercept and the weight value w's for each feature to make correct predictions. The intercept and the weight w's are called the parameters of the model.\n",
    "\n",
    "In the current problem, we estimated the weights for 6 features and the intercept to predict the grades:\n",
    "\n",
    "y(predicted) = intercept + w1*x1 + w2*x2 + w3*x3 + w4*x4 + w5*x5 + w6*x6 + w7*x7 \n",
    "\n",
    "Where,\n",
    "- x1 = failures\n",
    "- x2 = schoolsup_yes\n",
    "- x3 = absences\n",
    "- x4 = Medu\n",
    "- x5 = Walc\n",
    "- x6 = goout\n",
    "\n",
    "Our Linear Regression model computed the point estimates for these weights and the intercept. However, these values are mean estimates. There could be uncertainty (variance) around these estimates. Unfortunately the Linear Regression model that we used don't capture this uncertainty.\n",
    "\n",
    "So, we are not sure whether a particulr weight is trustworthy or not. For example, if a weight has a large variance, then we won't have much trust on it. In other words, then, the associated feature might not be useful to explain the variance in the target.\n",
    "\n",
    "Therefore, we need to estimate the uncertainty of the feature weights to better understand the predictive power of our model.\n",
    "\n",
    "This is done in the next notebook by using Bayesian analysis.\n"
   ]
  }
 ],
 "metadata": {
  "anaconda-cloud": {},
  "kernelspec": {
   "display_name": "Python [conda root]",
   "language": "python",
   "name": "conda-root-py"
  },
  "language_info": {
   "codemirror_mode": {
    "name": "ipython",
    "version": 3
   },
   "file_extension": ".py",
   "mimetype": "text/x-python",
   "name": "python",
   "nbconvert_exporter": "python",
   "pygments_lexer": "ipython3",
   "version": "3.5.2"
  }
 },
 "nbformat": 4,
 "nbformat_minor": 1
}
